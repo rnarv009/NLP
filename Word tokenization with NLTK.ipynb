{
 "cells": [
  {
   "cell_type": "code",
   "execution_count": 1,
   "metadata": {},
   "outputs": [],
   "source": [
    "scene_one=\"\"\"\n",
    "SCENE 1: [wind] [clop clop clop] \n",
    "KING ARTHUR: Whoa there!  [clop clop clop] \n",
    "SOLDIER #1: Halt!  Who goes there?\n",
    "ARTHUR: It is I, Arthur, son of Uther Pendragon, from the castle of Camelot.  King of the Britons, defeator of the Saxons, sovereign of all England!\n",
    "SOLDIER #1: Pull the other one!\n",
    "ARTHUR: I am, ...  and this is my trusty servant Patsy.  We have ridden the length and breadth of the land in search of knights who will join me in my court at Camelot.  I must speak with your lord and master.\n",
    "SOLDIER #1: What?  Ridden on a horse?\n",
    "ARTHUR: Yes!\n",
    "SOLDIER #1: You're using coconuts!\n",
    "ARTHUR: What?\n",
    "SOLDIER #1: You've got two empty halves of coconut and you're bangin' 'em together.\n",
    "ARTHUR: So?  We have ridden since the snows of winter covered this land, through the kingdom of Mercea, through--\n",
    "SOLDIER #1: Where'd you get the coconuts?\n",
    "ARTHUR: We found them.\n",
    "SOLDIER #1: Found them?  In Mercea?  The coconut's tropical!\n",
    "ARTHUR: What do you mean?\n",
    "SOLDIER #1: Well, this is a temperate zone.\n",
    "ARTHUR: The swallow may fly south with the sun or the house martin or the plover may seek warmer climes in winter, yet these are not strangers to our land?\n",
    "SOLDIER #1: Are you suggesting coconuts migrate?\n",
    "ARTHUR: Not at all.  They could be carried.\n",
    "SOLDIER #1: What?  A swallow carrying a coconut?\n",
    "ARTHUR: It could grip it by the husk!\n",
    "SOLDIER #1: It's not a question of where he grips it!  It's a simple question of weight ratios!  A five ounce bird could not carry a one pound coconut.\n",
    "ARTHUR: Well, it doesn't matter.  Will you go and tell your master that Arthur from the Court of Camelot is here.\n",
    "SOLDIER #1: Listen.  In order to maintain air-speed velocity, a swallow needs to beat its wings forty-three times every second, right?\n",
    "ARTHUR: Please!\n",
    "SOLDIER #1: Am I right?\n",
    "ARTHUR: I'm not interested!\n",
    "SOLDIER #2: It could be carried by an African swallow!\n",
    "SOLDIER #1: Oh, yeah, an African swallow maybe, but not a European swallow.  That's my point.\n",
    "SOLDIER #2: Oh, yeah, I agree with that.\n",
    "ARTHUR: Will you ask your master if he wants to join my court at Camelot?!\n",
    "SOLDIER #1: But then of course a-- African swallows are non-migratory.\n",
    "SOLDIER #2: Oh, yeah...\n",
    "SOLDIER #1: So they couldn't bring a coconut back anyway...  [clop clop clop] \n",
    "SOLDIER #2: Wait a minute!  Supposing two swallows carried it together?\n",
    "SOLDIER #1: No, they'd have to have it on a line.\n",
    "SOLDIER #2: Well, simple!  They'd just use a strand of creeper!\n",
    "SOLDIER #1: What, held under the dorsal guiding feathers?\n",
    "SOLDIER #2: Well, why not?\n",
    "\"\"\""
   ]
  },
  {
   "cell_type": "code",
   "execution_count": 2,
   "metadata": {},
   "outputs": [],
   "source": [
    "# Import necessary modules\n",
    "from nltk.tokenize import sent_tokenize\n",
    "from nltk.tokenize import word_tokenize"
   ]
  },
  {
   "cell_type": "code",
   "execution_count": 4,
   "metadata": {},
   "outputs": [
    {
     "data": {
      "text/plain": [
       "['\\nSCENE 1: [wind] [clop clop clop] \\nKING ARTHUR: Whoa there!',\n",
       " '[clop clop clop] \\nSOLDIER #1: Halt!',\n",
       " 'Who goes there?',\n",
       " 'ARTHUR: It is I, Arthur, son of Uther Pendragon, from the castle of Camelot.',\n",
       " 'King of the Britons, defeator of the Saxons, sovereign of all England!',\n",
       " 'SOLDIER #1: Pull the other one!',\n",
       " 'ARTHUR: I am, ...  and this is my trusty servant Patsy.',\n",
       " 'We have ridden the length and breadth of the land in search of knights who will join me in my court at Camelot.',\n",
       " 'I must speak with your lord and master.',\n",
       " 'SOLDIER #1: What?',\n",
       " 'Ridden on a horse?',\n",
       " 'ARTHUR: Yes!',\n",
       " \"SOLDIER #1: You're using coconuts!\",\n",
       " 'ARTHUR: What?',\n",
       " \"SOLDIER #1: You've got two empty halves of coconut and you're bangin' 'em together.\",\n",
       " 'ARTHUR: So?',\n",
       " \"We have ridden since the snows of winter covered this land, through the kingdom of Mercea, through--\\nSOLDIER #1: Where'd you get the coconuts?\",\n",
       " 'ARTHUR: We found them.',\n",
       " 'SOLDIER #1: Found them?',\n",
       " 'In Mercea?',\n",
       " \"The coconut's tropical!\",\n",
       " 'ARTHUR: What do you mean?',\n",
       " 'SOLDIER #1: Well, this is a temperate zone.',\n",
       " 'ARTHUR: The swallow may fly south with the sun or the house martin or the plover may seek warmer climes in winter, yet these are not strangers to our land?',\n",
       " 'SOLDIER #1: Are you suggesting coconuts migrate?',\n",
       " 'ARTHUR: Not at all.',\n",
       " 'They could be carried.',\n",
       " 'SOLDIER #1: What?',\n",
       " 'A swallow carrying a coconut?',\n",
       " 'ARTHUR: It could grip it by the husk!',\n",
       " \"SOLDIER #1: It's not a question of where he grips it!\",\n",
       " \"It's a simple question of weight ratios!\",\n",
       " 'A five ounce bird could not carry a one pound coconut.',\n",
       " \"ARTHUR: Well, it doesn't matter.\",\n",
       " 'Will you go and tell your master that Arthur from the Court of Camelot is here.',\n",
       " 'SOLDIER #1: Listen.',\n",
       " 'In order to maintain air-speed velocity, a swallow needs to beat its wings forty-three times every second, right?',\n",
       " 'ARTHUR: Please!',\n",
       " 'SOLDIER #1: Am I right?',\n",
       " \"ARTHUR: I'm not interested!\",\n",
       " 'SOLDIER #2: It could be carried by an African swallow!',\n",
       " 'SOLDIER #1: Oh, yeah, an African swallow maybe, but not a European swallow.',\n",
       " \"That's my point.\",\n",
       " 'SOLDIER #2: Oh, yeah, I agree with that.',\n",
       " 'ARTHUR: Will you ask your master if he wants to join my court at Camelot?!',\n",
       " 'SOLDIER #1: But then of course a-- African swallows are non-migratory.',\n",
       " 'SOLDIER #2: Oh, yeah...',\n",
       " \"SOLDIER #1: So they couldn't bring a coconut back anyway...  [clop clop clop] \\nSOLDIER #2: Wait a minute!\",\n",
       " 'Supposing two swallows carried it together?',\n",
       " \"SOLDIER #1: No, they'd have to have it on a line.\",\n",
       " 'SOLDIER #2: Well, simple!',\n",
       " \"They'd just use a strand of creeper!\",\n",
       " 'SOLDIER #1: What, held under the dorsal guiding feathers?',\n",
       " 'SOLDIER #2: Well, why not?']"
      ]
     },
     "execution_count": 4,
     "metadata": {},
     "output_type": "execute_result"
    }
   ],
   "source": [
    "# Split scene_one into sentences: sentences\n",
    "sentences = sent_tokenize(scene_one)\n",
    "sentences"
   ]
  },
  {
   "cell_type": "code",
   "execution_count": 5,
   "metadata": {},
   "outputs": [
    {
     "data": {
      "text/plain": [
       "['ARTHUR',\n",
       " ':',\n",
       " 'It',\n",
       " 'is',\n",
       " 'I',\n",
       " ',',\n",
       " 'Arthur',\n",
       " ',',\n",
       " 'son',\n",
       " 'of',\n",
       " 'Uther',\n",
       " 'Pendragon',\n",
       " ',',\n",
       " 'from',\n",
       " 'the',\n",
       " 'castle',\n",
       " 'of',\n",
       " 'Camelot',\n",
       " '.']"
      ]
     },
     "execution_count": 5,
     "metadata": {},
     "output_type": "execute_result"
    }
   ],
   "source": [
    "# Use word_tokenize to tokenize the fourth sentence: tokenized_sent\n",
    "tokenized_sent = word_tokenize(sentences[3])\n",
    "tokenized_sent"
   ]
  },
  {
   "cell_type": "code",
   "execution_count": 6,
   "metadata": {},
   "outputs": [],
   "source": [
    "# Make a set of unique tokens in the entire scene: unique_tokens\n",
    "unique_tokens = set(word_tokenize(scene_one))"
   ]
  },
  {
   "cell_type": "code",
   "execution_count": 7,
   "metadata": {},
   "outputs": [
    {
     "name": "stdout",
     "output_type": "stream",
     "text": [
      "{'You', 'that', 'am', 'minute', 'at', 'martin', 'Pull', 'agree', 'mean', 'Where', 'goes', 'defeator', 'Not', 'ounce', 'not', 'wants', 'anyway', '[', 'who', 'court', 'Oh', 'search', 'carrying', ':', 'non-migratory', 'one', 'strand', 'The', 'covered', 'in', 'suggesting', 'second', 'have', 'wings', 'sun', '2', 'interested', 'this', 'then', 'found', 'weight', 'That', 'ask', 'SOLDIER', \"'s\", 'question', 'course', 'bird', 'go', 'and', 'son', 'Yes', 'if', 'order', 'King', 'clop', 'Whoa', 'temperate', 'strangers', 'from', 'land', 'Saxons', 'husk', \"'d\", 'of', 'snows', 'KING', 'warmer', 'other', 'European', 'join', 'horse', 'Are', 'south', 'Arthur', 'fly', 'So', 'migrate', 'seek', 'What', 'held', 'Will', 'using', 'Supposing', 'SCENE', 'through', 'Halt', 'pound', ',', 'air-speed', 'trusty', 'your', 'maybe', ']', 'speak', 'use', 'Well', 'needs', 'Please', 'Pendragon', 'by', 'plover', 'bring', 'every', 'bangin', 'together', 'breadth', 'them', 'it', 'may', 'where', 'here', 'kingdom', 'Ridden', 'swallows', 'wind', 'grips', 'Camelot', 'my', 'knights', 'two', 'are', 'It', 'In', 'does', 'they', 'lord', 'under', 'length', \"n't\", 'five', 'matter', 'Found', 'its', 'empty', 'is', 'castle', 'must', 'ridden', 'winter', 'since', 'Mercea', 'ARTHUR', 'No', '.', 'Listen', \"'em\", 'the', '!', 'They', '--', 'tell', 'master', '#', 'tropical', 'We', 'me', 'yet', 'house', 'a', 'sovereign', 'velocity', 'But', 'be', 'carry', 'do', 'these', 'carried', 'times', \"'re\", 'Wait', 'why', 'on', 'get', 'line', 'African', 'yeah', 'servant', 'he', 'with', 'back', \"'ve\", 'Britons', 'our', 'feathers', 'halves', 'Court', 'swallow', 'Patsy', 'all', 'dorsal', 'could', 'will', 'England', 'point', 'just', \"'\", 'guiding', 'but', 'ratios', 'an', 'there', 'grip', 'maintain', '1', 'Who', 'coconut', \"'m\", 'right', 'or', 'simple', 'creeper', 'climes', 'Am', 'beat', 'you', 'I', '...', 'A', 'got', 'to', '?', 'zone', 'coconuts', 'forty-three', 'Uther'}\n"
     ]
    }
   ],
   "source": [
    "# Print the unique tokens result\n",
    "print(unique_tokens)"
   ]
  },
  {
   "cell_type": "code",
   "execution_count": null,
   "metadata": {},
   "outputs": [],
   "source": []
  }
 ],
 "metadata": {
  "kernelspec": {
   "display_name": "Python 3",
   "language": "python",
   "name": "python3"
  },
  "language_info": {
   "codemirror_mode": {
    "name": "ipython",
    "version": 3
   },
   "file_extension": ".py",
   "mimetype": "text/x-python",
   "name": "python",
   "nbconvert_exporter": "python",
   "pygments_lexer": "ipython3",
   "version": "3.5.6"
  }
 },
 "nbformat": 4,
 "nbformat_minor": 2
}
